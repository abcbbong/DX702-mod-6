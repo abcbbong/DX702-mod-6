{
 "cells": [
  {
   "cell_type": "code",
   "execution_count": 12,
   "id": "7305758b",
   "metadata": {},
   "outputs": [],
   "source": [
    "import pandas as pd\n",
    "import numpy as np\n",
    "from sklearn.linear_model import LinearRegression as lr\n",
    "import statsmodels.api as sm\n"
   ]
  },
  {
   "cell_type": "markdown",
   "id": "9011d465",
   "metadata": {},
   "source": [
    "### Homework 1.1 Q1 - Q3"
   ]
  },
  {
   "cell_type": "code",
   "execution_count": 28,
   "id": "ebe58ea7",
   "metadata": {},
   "outputs": [
    {
     "name": "stdout",
     "output_type": "stream",
     "text": [
      "File loaded successfully. Data preview:\n",
      "   Unnamed: 0        X1        X2        X3          Y\n",
      "0           0 -0.440646 -0.390227  0.156718  -0.877671\n",
      "1           1 -3.810099 -1.304665 -1.105117 -10.130388\n",
      "2           2 -1.425451 -0.340049  1.115908   0.284068\n",
      "3           3 -1.325750  0.161906 -0.254670  -1.994344\n",
      "4           4  3.120263  1.487343 -1.164839   2.030030\n"
     ]
    }
   ],
   "source": [
    "# 1. Import Libraries and Load Data\n",
    "import pandas as pd\n",
    "import statsmodels.api as sm\n",
    "\n",
    "# Load the CSV file into the 'df_1_1' DataFrame.\n",
    "# Ensure the file is in the same directory as your notebook.\n",
    "try:\n",
    "    df_1_1 = pd.read_csv('homework_1.1.csv')\n",
    "    print(\"File loaded successfully. Data preview:\")\n",
    "    print(df_1_1.head())\n",
    "except FileNotFoundError:\n",
    "    print(\"Error: 'homework_1.1.csv' file not found.\")\n",
    "    df_1_1 = None"
   ]
  },
  {
   "cell_type": "code",
   "execution_count": 30,
   "id": "1916bf13",
   "metadata": {},
   "outputs": [
    {
     "name": "stdout",
     "output_type": "stream",
     "text": [
      "### Multiple Regression Results (Y ~ X1 + X2 + X3) ###\n",
      "                            OLS Regression Results                            \n",
      "==============================================================================\n",
      "Dep. Variable:                      Y   R-squared:                       0.991\n",
      "Model:                            OLS   Adj. R-squared:                  0.991\n",
      "Method:                 Least Squares   F-statistic:                 3.543e+04\n",
      "Date:                Sun, 31 Aug 2025   Prob (F-statistic):               0.00\n",
      "Time:                        09:13:08   Log-Likelihood:                -727.62\n",
      "No. Observations:                1000   AIC:                             1463.\n",
      "Df Residuals:                     996   BIC:                             1483.\n",
      "Df Model:                           3                                         \n",
      "Covariance Type:            nonrobust                                         \n",
      "==============================================================================\n",
      "                 coef    std err          t      P>|t|      [0.025      0.975]\n",
      "------------------------------------------------------------------------------\n",
      "const          0.0026      0.016      0.166      0.868      -0.029       0.034\n",
      "X1             1.0071      0.017     60.984      0.000       0.975       1.040\n",
      "X2             1.9646      0.037     53.283      0.000       1.892       2.037\n",
      "X3             2.9755      0.015    196.645      0.000       2.946       3.005\n",
      "==============================================================================\n",
      "Omnibus:                        0.655   Durbin-Watson:                   1.960\n",
      "Prob(Omnibus):                  0.721   Jarque-Bera (JB):                0.592\n",
      "Skew:                          -0.058   Prob(JB):                        0.744\n",
      "Kurtosis:                       3.029   Cond. No.                         5.94\n",
      "==============================================================================\n",
      "\n",
      "Notes:\n",
      "[1] Standard Errors assume that the covariance matrix of the errors is correctly specified.\n"
     ]
    }
   ],
   "source": [
    "# 2. Perform Multiple Linear Regression\n",
    "if df_1_1 is not None:\n",
    "    # Define the dependent (Y) and independent (X1, X2, X3) variables.\n",
    "    Y = df_1_1['Y']\n",
    "    X_all = df_1_1[['X1', 'X2', 'X3']]\n",
    "    \n",
    "    # Add a constant (intercept) to the model.\n",
    "    X_all = sm.add_constant(X_all)\n",
    "\n",
    "    # Fit the Ordinary Least Squares (OLS) model.\n",
    "    model_all = sm.OLS(Y, X_all).fit()\n",
    "\n",
    "    # Print the full regression summary.\n",
    "    print(\"### Multiple Regression Results (Y ~ X1 + X2 + X3) ###\")\n",
    "    print(model_all.summary())"
   ]
  },
  {
   "cell_type": "code",
   "execution_count": 33,
   "id": "e657b926",
   "metadata": {},
   "outputs": [
    {
     "name": "stdout",
     "output_type": "stream",
     "text": [
      "\n",
      "--- Question 1: Coefficient of X1 ---\n",
      "The coefficient for X1 in the multiple regression is 1.0071.\n",
      "--- Question 3: Most Significant Coefficient ---\n",
      "T-statistics for each variable:\n",
      "X1     60.984011\n",
      "X2     53.283212\n",
      "X3    196.645240\n",
      "dtype: float64\n",
      "\n",
      "The variable with the highest absolute t-statistic is 'X3'.\n"
     ]
    }
   ],
   "source": [
    "# 3. Answer Questions 1 & 3\n",
    "if 'model_all' in locals():\n",
    "    # --- Question 1: Coefficient of X1 ---\n",
    "    coeff_x1_full = model_all.params['X1']\n",
    "    print(\"\\n--- Question 1: Coefficient of X1 ---\")\n",
    "    print(f\"The coefficient for X1 in the multiple regression is {coeff_x1_full:.4f}.\")\n",
    "\n",
    "    # --- Question 3: Most Significant Coefficient ---\n",
    "    t_stats = model_all.tvalues.drop('const')\n",
    "    most_significant_var = t_stats.abs().idxmax()\n",
    "    print(\"--- Question 3: Most Significant Coefficient ---\")\n",
    "    print(f\"T-statistics for each variable:\\n{t_stats}\\n\")\n",
    "    print(f\"The variable with the highest absolute t-statistic is '{most_significant_var}'.\")"
   ]
  },
  {
   "cell_type": "code",
   "execution_count": 34,
   "id": "719df153",
   "metadata": {},
   "outputs": [
    {
     "name": "stdout",
     "output_type": "stream",
     "text": [
      "\n",
      "================================================================================\n",
      "\n",
      "--- Question 2: Greatest Difference in Coefficients ---\n",
      "\n",
      "Analysis for X1:\n",
      "  - Simple regression coefficient: 1.8418\n",
      "  - Multiple regression coefficient: 1.0071\n",
      "  - Absolute difference: 0.8346\n",
      "\n",
      "Analysis for X2:\n",
      "  - Simple regression coefficient: 4.0836\n",
      "  - Multiple regression coefficient: 1.9646\n",
      "  - Absolute difference: 2.1190\n",
      "\n",
      "Analysis for X3:\n",
      "  - Simple regression coefficient: 3.0970\n",
      "  - Multiple regression coefficient: 2.9755\n",
      "  - Absolute difference: 0.1216\n",
      "\n",
      "The variable with the greatest difference is 'X2'.\n"
     ]
    }
   ],
   "source": [
    "# 4. Answer Question 2 (Simple Regression Comparison)\n",
    "if 'model_all' in locals():\n",
    "    print(\"\\n\" + \"=\"*80 + \"\\n\")\n",
    "    print(\"--- Question 2: Greatest Difference in Coefficients ---\")\n",
    "    \n",
    "    diffs = {}\n",
    "    \n",
    "    # Loop through each variable to perform a simple regression.\n",
    "    for var in ['X1', 'X2', 'X3']:\n",
    "        # Prepare the data for the simple regression.\n",
    "        X_simple = sm.add_constant(df_1_1[[var]])\n",
    "        \n",
    "        # Fit the simple OLS model.\n",
    "        model_simple = sm.OLS(Y, X_simple).fit()\n",
    "        coeff_simple = model_simple.params[var]\n",
    "\n",
    "        # Get the corresponding coefficient from the multiple regression model.\n",
    "        coeff_multiple = model_all.params[var]\n",
    "\n",
    "        # Calculate the absolute difference between the two coefficients.\n",
    "        diffs[var] = abs(coeff_multiple - coeff_simple)\n",
    "        \n",
    "        print(f\"\\nAnalysis for {var}:\")\n",
    "        print(f\"  - Simple regression coefficient: {coeff_simple:.4f}\")\n",
    "        print(f\"  - Multiple regression coefficient: {coeff_multiple:.4f}\")\n",
    "        print(f\"  - Absolute difference: {diffs[var]:.4f}\")\n",
    "\n",
    "    greatest_diff_var = max(diffs, key=diffs.get)\n",
    "    print(f\"\\nThe variable with the greatest difference is '{greatest_diff_var}'.\")"
   ]
  },
  {
   "cell_type": "markdown",
   "id": "fb919ad5",
   "metadata": {},
   "source": [
    "### Homework 1.2 Q4 - Q7"
   ]
  },
  {
   "cell_type": "code",
   "execution_count": 35,
   "id": "35e0d488",
   "metadata": {},
   "outputs": [
    {
     "name": "stdout",
     "output_type": "stream",
     "text": [
      "File 'homework_1.2.csv' loaded successfully. Data preview:\n",
      "   Unnamed: 0  X         Y         Z\n",
      "0           0  0  0.548814  0.548814\n",
      "1           1  1  1.215189  0.715189\n",
      "2           2  0  0.602763  0.602763\n",
      "3           3  0  0.544883  0.544883\n",
      "4           4  0  0.423655  0.423655\n"
     ]
    }
   ],
   "source": [
    "# 1. Import Libraries and Load Data\n",
    "import pandas as pd\n",
    "import numpy as np\n",
    "from sklearn.neighbors import NearestNeighbors\n",
    "\n",
    "# Load the CSV file into the 'df_1_2' DataFrame.\n",
    "try:\n",
    "    df_1_2 = pd.read_csv('homework_1.2.csv')\n",
    "    print(\"File 'homework_1.2.csv' loaded successfully. Data preview:\")\n",
    "    print(df_1_2.head())\n",
    "except FileNotFoundError:\n",
    "    print(\"Error: 'homework_1.2.csv' file not found.\")\n",
    "    df_1_2 = None"
   ]
  },
  {
   "cell_type": "code",
   "execution_count": 36,
   "id": "19778813",
   "metadata": {},
   "outputs": [
    {
     "name": "stdout",
     "output_type": "stream",
     "text": [
      "\n",
      "Data prepared for matching:\n",
      " - Number of treatment samples (X=1): 48\n",
      " - Number of control samples (X=0): 52\n"
     ]
    }
   ],
   "source": [
    "# 2. Prepare Data for Matching\n",
    "if df_1_2 is not None:\n",
    "    # Separate the data into treatment and control groups based on the 'X' column.\n",
    "    treatment = df_1_2[df_1_2['X'] == 1].copy()\n",
    "    control = df_1_2[df_1_2['X'] == 0].copy()\n",
    "\n",
    "    # Prepare the 'Z' variable from both groups for matching.\n",
    "    # Scikit-learn expects a 2D array, so we use [['Z']].\n",
    "    Z_treatment = treatment[['Z']]\n",
    "    Z_control = control[['Z']]\n",
    "    \n",
    "    print(f\"\\nData prepared for matching:\")\n",
    "    print(f\" - Number of treatment samples (X=1): {len(treatment)}\")\n",
    "    print(f\" - Number of control samples (X=0): {len(control)}\")"
   ]
  },
  {
   "cell_type": "code",
   "execution_count": 41,
   "id": "6751eb80",
   "metadata": {},
   "outputs": [
    {
     "name": "stdout",
     "output_type": "stream",
     "text": [
      "\n",
      "================================================================================\n",
      "\n",
      "--- Nearest Neighbor Matching (1-to-1) ---\n",
      "\n",
      "--- Question 4: Farthest Match Distance ---\n",
      "The maximum distance to a nearest neighbor is: 0.2102\n",
      "--- Question 5: Treatment Effect (Nearest Neighbor) ---\n",
      "Average Y for Treatment Group: 1.1256\n",
      "Average Y for Matched Control Group: 0.5822\n",
      "The estimated effect is: 0.5434\n"
     ]
    }
   ],
   "source": [
    "# 3. Nearest Neighbor Matching (Questions 4 & 5)\n",
    "if 'treatment' in locals():\n",
    "    print(\"\\n\" + \"=\"*80 + \"\\n\")\n",
    "    print(\"--- Nearest Neighbor Matching (1-to-1) ---\")\n",
    "    \n",
    "    # Initialize the model to find 1 nearest neighbor.\n",
    "    nn_model = NearestNeighbors(n_neighbors=1, metric='euclidean')\n",
    "    \n",
    "    # Fit the model on the control group's Z values.\n",
    "    nn_model.fit(Z_control)\n",
    "    \n",
    "    # Find the nearest neighbor in the control group for each treatment sample.\n",
    "    distances, indices = nn_model.kneighbors(Z_treatment)\n",
    "\n",
    "    # --- Answer for Question 4 ---\n",
    "    farthest_distance = distances.max()\n",
    "    print(f\"\\n--- Question 4: Farthest Match Distance ---\")\n",
    "    print(f\"The maximum distance to a nearest neighbor is: {farthest_distance:.4f}\")\n",
    "\n",
    "    \n",
    "    # --- Answer for Question 5 ---\n",
    "    # Get the indices of the matched control units.\n",
    "    matched_control_indices = control.iloc[indices.flatten()].index\n",
    "    \n",
    "    # Create the matched control group DataFrame.\n",
    "    matched_control_group = df_1_2.loc[matched_control_indices]\n",
    "\n",
    "    # Calculate the average Y for both groups.\n",
    "    avg_y_treatment = treatment['Y'].mean()\n",
    "    avg_y_matched_control = matched_control_group['Y'].mean()\n",
    "    \n",
    "    # Calculate the treatment effect.\n",
    "    effect_nn = avg_y_treatment - avg_y_matched_control\n",
    "\n",
    "    print(f\"--- Question 5: Treatment Effect (Nearest Neighbor) ---\")\n",
    "    print(f\"Average Y for Treatment Group: {avg_y_treatment:.4f}\")\n",
    "    print(f\"Average Y for Matched Control Group: {avg_y_matched_control:.4f}\")\n",
    "    print(f\"The estimated effect is: {effect_nn:.4f}\")\n"
   ]
  },
  {
   "cell_type": "code",
   "execution_count": 42,
   "id": "2c2e2f0a",
   "metadata": {},
   "outputs": [
    {
     "name": "stdout",
     "output_type": "stream",
     "text": [
      "\n",
      "================================================================================\n",
      "\n",
      "--- Radius Matching (distance < 0.2) ---\n",
      "\n",
      "--- Question 6: Number of Duplicates ---\n",
      "Total neighbors found within the radius: 737\n",
      "The number of duplicates is: 689\n",
      "--- Question 7: Treatment Effect (Radius Matching) ---\n",
      "Average Y for Treatment Group: 1.1256\n",
      "Average of mean Ys for matched controls: 0.5412\n",
      "The estimated effect is: 0.5844\n"
     ]
    }
   ],
   "source": [
    "# 4. Radius Matching (Questions 6 & 7)\n",
    "if 'treatment' in locals():\n",
    "    print(\"\\n\" + \"=\"*80 + \"\\n\")\n",
    "    print(\"--- Radius Matching (distance < 0.2) ---\")\n",
    "    \n",
    "    # Initialize the model to find all neighbors within a 0.2 radius.\n",
    "    radius_model = NearestNeighbors(radius=0.2)\n",
    "    \n",
    "    # Fit the model on the control group's Z values.\n",
    "    radius_model.fit(Z_control)\n",
    "    \n",
    "    # Find all neighbors for each treatment sample.\n",
    "    distances_rad, indices_rad = radius_model.radius_neighbors(Z_treatment)\n",
    "    \n",
    "    # --- Answer for Question 6 ---\n",
    "    # The number of duplicates is the total number of neighbors found\n",
    "    # minus the number of treatment samples.\n",
    "    total_neighbors = sum(len(i) for i in indices_rad)\n",
    "    num_duplicates = total_neighbors - len(treatment)\n",
    "\n",
    "    print(f\"\\n--- Question 6: Number of Duplicates ---\")\n",
    "    print(f\"Total neighbors found within the radius: {total_neighbors}\")\n",
    "    print(f\"The number of duplicates is: {num_duplicates}\")\n",
    "       \n",
    "    # --- Answer for Question 7 ---\n",
    "    y_control_means_per_treatment = []\n",
    "    \n",
    "    # For each treatment unit, calculate the mean Y of its neighbors.\n",
    "    for i in range(len(indices_rad)):\n",
    "        neighbor_df_indices = control.iloc[indices_rad[i]].index\n",
    "        if len(neighbor_df_indices) > 0:\n",
    "            mean_y_for_neighbors = df_1_2.loc[neighbor_df_indices]['Y'].mean()\n",
    "            y_control_means_per_treatment.append(mean_y_for_neighbors)\n",
    "\n",
    "    # Calculate the average of these means for the overall matched control effect.\n",
    "    avg_y_radius_matched_control = np.mean(y_control_means_per_treatment)\n",
    "    \n",
    "    # The average Y for the treatment group is the same as before.\n",
    "    avg_y_treatment = treatment['Y'].mean()\n",
    "    \n",
    "    # Calculate the treatment effect.\n",
    "    effect_radius = avg_y_treatment - avg_y_radius_matched_control\n",
    "    \n",
    "    print(f\"--- Question 7: Treatment Effect (Radius Matching) ---\")\n",
    "    print(f\"Average Y for Treatment Group: {avg_y_treatment:.4f}\")\n",
    "    print(f\"Average of mean Ys for matched controls: {avg_y_radius_matched_control:.4f}\")\n",
    "    print(f\"The estimated effect is: {effect_radius:.4f}\")\n",
    "    "
   ]
  }
 ],
 "metadata": {
  "kernelspec": {
   "display_name": "Python 3",
   "language": "python",
   "name": "python3"
  },
  "language_info": {
   "codemirror_mode": {
    "name": "ipython",
    "version": 3
   },
   "file_extension": ".py",
   "mimetype": "text/x-python",
   "name": "python",
   "nbconvert_exporter": "python",
   "pygments_lexer": "ipython3",
   "version": "3.12.10"
  }
 },
 "nbformat": 4,
 "nbformat_minor": 5
}
