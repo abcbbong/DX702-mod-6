{
 "cells": [
  {
   "cell_type": "code",
   "execution_count": 1,
   "id": "7305758b",
   "metadata": {},
   "outputs": [],
   "source": [
    "import pandas as pd\n",
    "import numpy as np\n",
    "from sklearn.linear_model import LinearRegression as lr\n",
    "import statsmodels.api as sm\n"
   ]
  },
  {
   "cell_type": "markdown",
   "id": "9011d465",
   "metadata": {},
   "source": [
    "### Homework 1.1 Q1 - Q3"
   ]
  },
  {
   "cell_type": "markdown",
   "id": "263f1fe8",
   "metadata": {},
   "source": [
    "For questions 1 to 3:\n",
    "\n",
    "Perform a linear regression to predict Y from X1, X2, and X3. Use the file homework_1.1.csv."
   ]
  },
  {
   "cell_type": "code",
   "execution_count": 2,
   "id": "ebe58ea7",
   "metadata": {},
   "outputs": [
    {
     "name": "stdout",
     "output_type": "stream",
     "text": [
      "File loaded successfully. Data preview:\n",
      "   Unnamed: 0        X1        X2        X3          Y\n",
      "0           0 -0.440646 -0.390227  0.156718  -0.877671\n",
      "1           1 -3.810099 -1.304665 -1.105117 -10.130388\n",
      "2           2 -1.425451 -0.340049  1.115908   0.284068\n",
      "3           3 -1.325750  0.161906 -0.254670  -1.994344\n",
      "4           4  3.120263  1.487343 -1.164839   2.030030\n"
     ]
    }
   ],
   "source": [
    "# 1. Import Libraries and Load Data\n",
    "import pandas as pd\n",
    "import statsmodels.api as sm\n",
    "\n",
    "# Load the CSV file into the 'df_1_1' DataFrame.\n",
    "# Ensure the file is in the same directory as your notebook.\n",
    "try:\n",
    "    df_1_1 = pd.read_csv('homework_1.1.csv')\n",
    "    print(\"File loaded successfully. Data preview:\")\n",
    "    print(df_1_1.head())\n",
    "except FileNotFoundError:\n",
    "    print(\"Error: 'homework_1.1.csv' file not found.\")\n",
    "    df_1_1 = None"
   ]
  },
  {
   "cell_type": "code",
   "execution_count": 3,
   "id": "1916bf13",
   "metadata": {},
   "outputs": [
    {
     "name": "stdout",
     "output_type": "stream",
     "text": [
      "### Multiple Regression Results (Y ~ X1 + X2 + X3) ###\n",
      "                            OLS Regression Results                            \n",
      "==============================================================================\n",
      "Dep. Variable:                      Y   R-squared:                       0.991\n",
      "Model:                            OLS   Adj. R-squared:                  0.991\n",
      "Method:                 Least Squares   F-statistic:                 3.543e+04\n",
      "Date:                Sun, 31 Aug 2025   Prob (F-statistic):               0.00\n",
      "Time:                        18:13:35   Log-Likelihood:                -727.62\n",
      "No. Observations:                1000   AIC:                             1463.\n",
      "Df Residuals:                     996   BIC:                             1483.\n",
      "Df Model:                           3                                         \n",
      "Covariance Type:            nonrobust                                         \n",
      "==============================================================================\n",
      "                 coef    std err          t      P>|t|      [0.025      0.975]\n",
      "------------------------------------------------------------------------------\n",
      "const          0.0026      0.016      0.166      0.868      -0.029       0.034\n",
      "X1             1.0071      0.017     60.984      0.000       0.975       1.040\n",
      "X2             1.9646      0.037     53.283      0.000       1.892       2.037\n",
      "X3             2.9755      0.015    196.645      0.000       2.946       3.005\n",
      "==============================================================================\n",
      "Omnibus:                        0.655   Durbin-Watson:                   1.960\n",
      "Prob(Omnibus):                  0.721   Jarque-Bera (JB):                0.592\n",
      "Skew:                          -0.058   Prob(JB):                        0.744\n",
      "Kurtosis:                       3.029   Cond. No.                         5.94\n",
      "==============================================================================\n",
      "\n",
      "Notes:\n",
      "[1] Standard Errors assume that the covariance matrix of the errors is correctly specified.\n"
     ]
    }
   ],
   "source": [
    "# 2. Perform Multiple Linear Regression\n",
    "if df_1_1 is not None:\n",
    "    # Define the dependent (Y) and independent (X1, X2, X3) variables.\n",
    "    Y = df_1_1['Y']\n",
    "    X_all = df_1_1[['X1', 'X2', 'X3']]\n",
    "    \n",
    "    # Add a constant (intercept) to the model.\n",
    "    X_all = sm.add_constant(X_all)\n",
    "\n",
    "    # Fit the Ordinary Least Squares (OLS) model.\n",
    "    model_all = sm.OLS(Y, X_all).fit()\n",
    "\n",
    "    # Print the full regression summary.\n",
    "    print(\"### Multiple Regression Results (Y ~ X1 + X2 + X3) ###\")\n",
    "    print(model_all.summary())"
   ]
  },
  {
   "cell_type": "code",
   "execution_count": 4,
   "id": "e657b926",
   "metadata": {},
   "outputs": [
    {
     "name": "stdout",
     "output_type": "stream",
     "text": [
      "\n",
      "--- Question 1: Coefficient of X1 ---\n",
      "The coefficient for X1 in the multiple regression is 1.0071.\n",
      "--- Question 3: Most Significant Coefficient ---\n",
      "T-statistics for each variable:\n",
      "X1     60.984011\n",
      "X2     53.283212\n",
      "X3    196.645240\n",
      "dtype: float64\n",
      "\n",
      "The variable with the highest absolute t-statistic is 'X3'.\n"
     ]
    }
   ],
   "source": [
    "# 3. Answer Questions 1 & 3\n",
    "if 'model_all' in locals():\n",
    "    # --- Question 1: Coefficient of X1 ---\n",
    "    coeff_x1_full = model_all.params['X1']\n",
    "    print(\"\\n--- Question 1: Coefficient of X1 ---\")\n",
    "    print(f\"The coefficient for X1 in the multiple regression is {coeff_x1_full:.4f}.\")\n",
    "\n",
    "    # --- Question 3: Most Significant Coefficient ---\n",
    "    t_stats = model_all.tvalues.drop('const')\n",
    "    most_significant_var = t_stats.abs().idxmax()\n",
    "    print(\"--- Question 3: Most Significant Coefficient ---\")\n",
    "    print(f\"T-statistics for each variable:\\n{t_stats}\\n\")\n",
    "    print(f\"The variable with the highest absolute t-statistic is '{most_significant_var}'.\")"
   ]
  },
  {
   "cell_type": "code",
   "execution_count": 5,
   "id": "719df153",
   "metadata": {},
   "outputs": [
    {
     "name": "stdout",
     "output_type": "stream",
     "text": [
      "\n",
      "================================================================================\n",
      "\n",
      "--- Question 2: Greatest Difference in Coefficients ---\n",
      "\n",
      "Analysis for X1:\n",
      "  - Simple regression coefficient: 1.8418\n",
      "  - Multiple regression coefficient: 1.0071\n",
      "  - Absolute difference: 0.8346\n",
      "\n",
      "Analysis for X2:\n",
      "  - Simple regression coefficient: 4.0836\n",
      "  - Multiple regression coefficient: 1.9646\n",
      "  - Absolute difference: 2.1190\n",
      "\n",
      "Analysis for X3:\n",
      "  - Simple regression coefficient: 3.0970\n",
      "  - Multiple regression coefficient: 2.9755\n",
      "  - Absolute difference: 0.1216\n",
      "\n",
      "The variable with the greatest difference is 'X2'.\n"
     ]
    }
   ],
   "source": [
    "# 4. Answer Question 2 (Simple Regression Comparison)\n",
    "if 'model_all' in locals():\n",
    "    print(\"\\n\" + \"=\"*80 + \"\\n\")\n",
    "    print(\"--- Question 2: Greatest Difference in Coefficients ---\")\n",
    "    \n",
    "    diffs = {}\n",
    "    \n",
    "    # Loop through each variable to perform a simple regression.\n",
    "    for var in ['X1', 'X2', 'X3']:\n",
    "        # Prepare the data for the simple regression.\n",
    "        X_simple = sm.add_constant(df_1_1[[var]])\n",
    "        \n",
    "        # Fit the simple OLS model.\n",
    "        model_simple = sm.OLS(Y, X_simple).fit()\n",
    "        coeff_simple = model_simple.params[var]\n",
    "\n",
    "        # Get the corresponding coefficient from the multiple regression model.\n",
    "        coeff_multiple = model_all.params[var]\n",
    "\n",
    "        # Calculate the absolute difference between the two coefficients.\n",
    "        diffs[var] = abs(coeff_multiple - coeff_simple)\n",
    "        \n",
    "        print(f\"\\nAnalysis for {var}:\")\n",
    "        print(f\"  - Simple regression coefficient: {coeff_simple:.4f}\")\n",
    "        print(f\"  - Multiple regression coefficient: {coeff_multiple:.4f}\")\n",
    "        print(f\"  - Absolute difference: {diffs[var]:.4f}\")\n",
    "\n",
    "    greatest_diff_var = max(diffs, key=diffs.get)\n",
    "    print(f\"\\nThe variable with the greatest difference is '{greatest_diff_var}'.\")"
   ]
  },
  {
   "cell_type": "markdown",
   "id": "fb919ad5",
   "metadata": {},
   "source": [
    "### Homework 1.2 Q4 - Q7"
   ]
  },
  {
   "cell_type": "markdown",
   "id": "9bb3e336",
   "metadata": {},
   "source": [
    "For Question 4 and 5:\n",
    "\n",
    "\n",
    "Use NearestNeighbors to match data based on variables Z, given the file homework_1.2.csv.\n",
    "Pick the best match in X = 0 corresponding to each X = 1. Use the Z values to perform the match: a good match with X = 1 is the item whose Z value is closest to the given sample's Z value with X = 0. I suggest using sklearn's NearestNeighbors to do this, but there are many ways to do it.  \n",
    "\n",
    "\n",
    "For questions 6 and 7:\n",
    "\n",
    "\n",
    "\n",
    "Use NearestNeighbors to match data based on variables Z, given the file homework_1.2.csv. \n",
    "Try approach B: Pick all of the matches in X = 0 that are within a distance 0.2 of each X = 1. Duplicates are okay, in case a given sample with X = 0 is a good match for multiple items with X = 1. "
   ]
  },
  {
   "cell_type": "code",
   "execution_count": 13,
   "id": "a06de64e",
   "metadata": {},
   "outputs": [
    {
     "name": "stdout",
     "output_type": "stream",
     "text": [
      "Q4 farthest distance: 0.2102170871093757\n",
      "Q5 effect (Y1 - matched Y0): 0.5433600651913855\n",
      "Q6 duplicates: 685\n",
      "Q7 effect (Y1 - mean of group means): 0.5844124774008066\n"
     ]
    }
   ],
   "source": [
    "from sklearn.neighbors import NearestNeighbors\n",
    "import numpy as np\n",
    "\n",
    "df_1_2=pd.read_csv(\"homework_1.2.csv\")\n",
    "\n",
    "# Split data\n",
    "df0 = df_1_2[df_1_2[\"X\"] == 0].reset_index(drop=True)  # controls\n",
    "df1 = df_1_2[df_1_2[\"X\"] == 1].reset_index(drop=True)  # treated\n",
    "\n",
    "Z0 = df0[[\"Z\"]].to_numpy()\n",
    "Z1 = df1[[\"Z\"]].to_numpy()\n",
    "\n",
    "# --- Q4 & Q5: 1-NN with replacement ---\n",
    "nn = NearestNeighbors(n_neighbors=1, metric=\"euclidean\").fit(Z0)\n",
    "dist, idx = nn.kneighbors(Z1, return_distance=True)\n",
    "\n",
    "q4_farthest = dist.max()  # farthest match distance\n",
    "\n",
    "y1_mean = df1[\"Y\"].mean()\n",
    "y0_matched_mean = df0[\"Y\"].to_numpy()[idx.ravel()].mean()\n",
    "q5_effect = y1_mean - y0_matched_mean  # ATT-style sign\n",
    "\n",
    "print(\"Q4 farthest distance:\", q4_farthest)\n",
    "print(\"Q5 effect (Y1 - matched Y0):\", q5_effect)\n",
    "\n",
    "# --- Q6 & Q7: radius=0.2, duplicates allowed ---\n",
    "radius = 0.2\n",
    "nnr = NearestNeighbors(radius=radius, metric=\"euclidean\").fit(Z0)\n",
    "neighbors_idx = nnr.radius_neighbors(Z1, return_distance=False)\n",
    "\n",
    "# Q6 duplicates = total matches - unique controls\n",
    "all_hits = np.concatenate([ix for ix in neighbors_idx if len(ix) > 0]) if len(neighbors_idx) else np.array([], dtype=int)\n",
    "duplicates = all_hits.size - np.unique(all_hits).size\n",
    "print(\"Q6 duplicates:\", duplicates)\n",
    "\n",
    "# Q7 effect: mean of group means\n",
    "group_means = []\n",
    "for ix in neighbors_idx:\n",
    "    if len(ix) == 0:\n",
    "        # Option A (what I did): skip empty groups\n",
    "        # continue\n",
    "        # Option B (fallback): use single nearest neighbor when empty\n",
    "        # nearest_idx = nn.kneighbors(Z1[[k]], return_distance=False)[0,0]\n",
    "        # group_means.append(df0[\"Y\"].to_numpy()[nearest_idx])\n",
    "        continue\n",
    "    group_means.append(df0[\"Y\"].to_numpy()[ix].mean())\n",
    "\n",
    "q7_effect = y1_mean - np.mean(group_means)\n",
    "print(\"Q7 effect (Y1 - mean of group means):\", q7_effect)\n"
   ]
  }
 ],
 "metadata": {
  "kernelspec": {
   "display_name": "Python 3",
   "language": "python",
   "name": "python3"
  },
  "language_info": {
   "codemirror_mode": {
    "name": "ipython",
    "version": 3
   },
   "file_extension": ".py",
   "mimetype": "text/x-python",
   "name": "python",
   "nbconvert_exporter": "python",
   "pygments_lexer": "ipython3",
   "version": "3.13.7"
  }
 },
 "nbformat": 4,
 "nbformat_minor": 5
}
